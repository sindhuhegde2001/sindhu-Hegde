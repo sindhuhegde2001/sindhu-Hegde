{
 "cells": [
  {
   "cell_type": "code",
   "execution_count": 2,
   "metadata": {},
   "outputs": [
    {
     "name": "stdout",
     "output_type": "stream",
     "text": [
      "{21: 'FTP', 22: 'SSH', 23: 'TELNET', 80: 'http'}\n",
      "{'FTP': 21, 'SSH': 22, 'TELNET': 23, 'http': 80}\n",
      "{'FTP': 21, 'SSH': 22, 'TELNET': 23, 'http': 80}\n"
     ]
    }
   ],
   "source": [
    "port1={21:\"FTP\",22:\"SSH\",23:\"TELNET\",80:\"http\"}\n",
    "print(port1)\n",
    "port1={value:key for key,value in port1.items()}\n",
    "port2=dict([(key,value) for key, value in port1.items()])\n",
    "print(port2)\n",
    "print(port1)"
   ]
  },
  {
   "cell_type": "code",
   "execution_count": 13,
   "metadata": {},
   "outputs": [
    {
     "name": "stdout",
     "output_type": "stream",
     "text": [
      "[1, 2, 3, 1, 2, 'a', 'hit', 'less']\n"
     ]
    }
   ],
   "source": [
    "list3=[(1,2,3),[1,2],['a','hit','less']]\n",
    "list4=[item for each in list3 for item in each]\n",
    "print(list4)"
   ]
  },
  {
   "cell_type": "code",
   "execution_count": null,
   "metadata": {},
   "outputs": [],
   "source": [
    "list1=[(1,2),(3,4),(5,6),(4,5)]\n",
    "for each in list1:\n",
    "    list2=sum(list(each))\n",
    "    print(list2)"
   ]
  },
  {
   "cell_type": "code",
   "execution_count": null,
   "metadata": {},
   "outputs": [],
   "source": []
  },
  {
   "cell_type": "code",
   "execution_count": null,
   "metadata": {},
   "outputs": [],
   "source": [
    "\n"
   ]
  }
 ],
 "metadata": {
  "kernelspec": {
   "display_name": "Python 3",
   "language": "python",
   "name": "python3"
  },
  "language_info": {
   "codemirror_mode": {
    "name": "ipython",
    "version": 3
   },
   "file_extension": ".py",
   "mimetype": "text/x-python",
   "name": "python",
   "nbconvert_exporter": "python",
   "pygments_lexer": "ipython3",
   "version": "3.7.6"
  }
 },
 "nbformat": 4,
 "nbformat_minor": 4
}
